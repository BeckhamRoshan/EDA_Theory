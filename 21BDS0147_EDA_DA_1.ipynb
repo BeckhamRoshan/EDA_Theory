{
  "nbformat": 4,
  "nbformat_minor": 0,
  "metadata": {
    "colab": {
      "provenance": [],
      "authorship_tag": "ABX9TyPuN/kYktHOlJO9IRcOFs0i",
      "include_colab_link": true
    },
    "kernelspec": {
      "name": "python3",
      "display_name": "Python 3"
    },
    "language_info": {
      "name": "python"
    }
  },
  "cells": [
    {
      "cell_type": "markdown",
      "metadata": {
        "id": "view-in-github",
        "colab_type": "text"
      },
      "source": [
        "<a href=\"https://colab.research.google.com/github/BeckhamRoshan/EDA_Theory/blob/main/21BDS0147_EDA_DA_1.ipynb\" target=\"_parent\"><img src=\"https://colab.research.google.com/assets/colab-badge.svg\" alt=\"Open In Colab\"/></a>"
      ]
    },
    {
      "cell_type": "markdown",
      "source": [
        "REG_NO: 21BDS0147\n",
        "\n",
        "NAME: BECKHAM JOE ROSHAN F\n",
        "\n",
        "COURSE_NAME: EXPLORATORY DATA ANALYSIS\n",
        "\n",
        "COURSE_CODE: BCSE331L\n",
        "\n",
        "SLOT: C1\n",
        "\n",
        "DIGITAL ASSIGNMENT - 1\n"
      ],
      "metadata": {
        "id": "aBwb2P09wocs"
      }
    },
    {
      "cell_type": "code",
      "source": [
        "print(\"hi\")"
      ],
      "metadata": {
        "colab": {
          "base_uri": "https://localhost:8080/"
        },
        "id": "zzR6z3RxwWDp",
        "outputId": "fc8598a9-6f77-433a-efda-ac920806e4cb"
      },
      "execution_count": 2,
      "outputs": [
        {
          "output_type": "stream",
          "name": "stdout",
          "text": [
            "hi\n"
          ]
        }
      ]
    },
    {
      "cell_type": "code",
      "source": [],
      "metadata": {
        "id": "xGifWjjw3Lif"
      },
      "execution_count": null,
      "outputs": []
    }
  ]
}