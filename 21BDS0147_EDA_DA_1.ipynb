{
  "nbformat": 4,
  "nbformat_minor": 0,
  "metadata": {
    "colab": {
      "provenance": [],
      "authorship_tag": "ABX9TyMSD08RNaVynRG1vZ2FU+W/",
      "include_colab_link": true
    },
    "kernelspec": {
      "name": "python3",
      "display_name": "Python 3"
    },
    "language_info": {
      "name": "python"
    }
  },
  "cells": [
    {
      "cell_type": "markdown",
      "metadata": {
        "id": "view-in-github",
        "colab_type": "text"
      },
      "source": [
        "<a href=\"https://colab.research.google.com/github/BeckhamRoshan/EDA_Theory/blob/main/21BDS0147_EDA_DA_1.ipynb\" target=\"_parent\"><img src=\"https://colab.research.google.com/assets/colab-badge.svg\" alt=\"Open In Colab\"/></a>"
      ]
    },
    {
      "cell_type": "markdown",
      "source": [
        "REG_NO: 21BDS0147\n",
        "\n",
        "NAME: BECKHAM JOE ROSHAN F\n",
        "\n",
        "COURSE_NAME: EXPLORATORY DATA ANALYSIS\n",
        "\n",
        "COURSE_CODE: BCSE331L\n",
        "\n",
        "SLOT: C1\n",
        "\n",
        "DIGITAL ASSIGNMENT - 1\n"
      ],
      "metadata": {
        "id": "aBwb2P09wocs"
      }
    },
    {
      "cell_type": "code",
      "source": [],
      "metadata": {
        "id": "zzR6z3RxwWDp"
      },
      "execution_count": null,
      "outputs": []
    }
  ]
}